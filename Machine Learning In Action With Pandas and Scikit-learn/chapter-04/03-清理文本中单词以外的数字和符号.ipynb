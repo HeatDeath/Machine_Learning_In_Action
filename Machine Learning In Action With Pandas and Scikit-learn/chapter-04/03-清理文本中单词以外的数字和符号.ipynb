{
 "cells": [
  {
   "cell_type": "code",
   "execution_count": 22,
   "metadata": {
    "collapsed": true
   },
   "outputs": [],
   "source": [
    "import os, sys\n",
    "import re\n",
    "from sklearn.feature_extraction.text import CountVectorizer"
   ]
  },
  {
   "cell_type": "code",
   "execution_count": 23,
   "metadata": {
    "collapsed": false
   },
   "outputs": [
    {
     "data": {
      "text/plain": [
       "['1.txt',\n",
       " '10.txt',\n",
       " '11.txt',\n",
       " '12.txt',\n",
       " '13.txt',\n",
       " '14.txt',\n",
       " '15.txt',\n",
       " '16.txt',\n",
       " '17.txt',\n",
       " '18.txt',\n",
       " '19.txt',\n",
       " '2.txt',\n",
       " '20.txt',\n",
       " '21.txt',\n",
       " '22.txt',\n",
       " '23.txt',\n",
       " '24.txt',\n",
       " '25.txt',\n",
       " '3.txt',\n",
       " '4.txt',\n",
       " '5.txt',\n",
       " '6.txt',\n",
       " '7.txt',\n",
       " '8.txt',\n",
       " '9.txt']"
      ]
     },
     "execution_count": 23,
     "metadata": {},
     "output_type": "execute_result"
    }
   ],
   "source": [
    "os.listdir(os.getcwd()+'\\email'+'\\spam')"
   ]
  },
  {
   "cell_type": "code",
   "execution_count": 24,
   "metadata": {
    "collapsed": false
   },
   "outputs": [
    {
     "data": {
      "text/plain": [
       "['1.txt',\n",
       " '10.txt',\n",
       " '11.txt',\n",
       " '12.txt',\n",
       " '13.txt',\n",
       " '14.txt',\n",
       " '15.txt',\n",
       " '16.txt',\n",
       " '17.txt',\n",
       " '18.txt',\n",
       " '19.txt',\n",
       " '2.txt',\n",
       " '20.txt',\n",
       " '21.txt',\n",
       " '22.txt',\n",
       " '23.txt',\n",
       " '24.txt',\n",
       " '25.txt',\n",
       " '3.txt',\n",
       " '4.txt',\n",
       " '5.txt',\n",
       " '6.txt',\n",
       " '7.txt',\n",
       " '8.txt',\n",
       " '9.txt']"
      ]
     },
     "execution_count": 24,
     "metadata": {},
     "output_type": "execute_result"
    }
   ],
   "source": [
    "os.listdir('.\\email\\spam')"
   ]
  },
  {
   "cell_type": "code",
   "execution_count": 25,
   "metadata": {
    "collapsed": false
   },
   "outputs": [
    {
     "data": {
      "text/plain": [
       "'--- Codeine 15mg -- 30 for $203.70 -- VISA Only!!! --\\n\\n-- Codeine (Methylmorphine) is a narcotic (opioid) pain reliever\\n-- We have 15mg & 30mg pills -- 30/15mg for $203.70 - 60/15mg for $385.80 - 90/15mg for $562.50 -- VISA Only!!! ---'"
      ]
     },
     "execution_count": 25,
     "metadata": {},
     "output_type": "execute_result"
    }
   ],
   "source": [
    "read_file_1 = open('./email/spam/1.txt').read()\n",
    "read_file_1"
   ]
  },
  {
   "cell_type": "code",
   "execution_count": 26,
   "metadata": {
    "collapsed": false
   },
   "outputs": [
    {
     "data": {
      "text/plain": [
       "'Hydrocodone/Vicodin ES/Brand Watson\\n\\nVicodin ES - 7.5/750 mg: 30 - $195 / 120 $570\\nBrand Watson - 7.5/750 mg: 30 - $195 / 120 $570\\nBrand Watson - 10/325 mg: 30 - $199 / 120 - $588\\nNoPrescription Required\\nFREE Express FedEx (3-5 days Delivery) for over $200 order\\nMajor Credit Cards + E-CHECK'"
      ]
     },
     "execution_count": 26,
     "metadata": {},
     "output_type": "execute_result"
    }
   ],
   "source": [
    "read_file_2 = open('./email/spam/2.txt').read()\n",
    "read_file_2"
   ]
  },
  {
   "cell_type": "code",
   "execution_count": 27,
   "metadata": {
    "collapsed": false
   },
   "outputs": [
    {
     "data": {
      "text/plain": [
       "array([[0, 0, 5, 0, 0, 0, 2, 2, 1, 0, 1, 1, 1, 0, 0, 1, 2, 0, 1, 1, 0, 0,\n",
       "        0, 2, 0, 0, 0, 0, 0, 0, 4, 0, 1, 0, 1, 0, 1, 0, 1, 0, 2, 1, 0, 0,\n",
       "        1, 1, 1, 0, 0, 2, 0, 1],\n",
       "       [1, 3, 0, 2, 1, 1, 0, 3, 0, 1, 0, 0, 0, 2, 1, 0, 0, 2, 0, 0, 3, 1,\n",
       "        1, 0, 1, 1, 1, 2, 1, 1, 1, 1, 0, 1, 0, 1, 0, 3, 0, 1, 0, 0, 1, 1,\n",
       "        0, 0, 0, 1, 2, 0, 3, 0]], dtype=int64)"
      ]
     },
     "execution_count": 27,
     "metadata": {},
     "output_type": "execute_result"
    }
   ],
   "source": [
    "count_vec = CountVectorizer()\n",
    "count_vec.fit_transform([read_file_1, read_file_2]).toarray()"
   ]
  },
  {
   "cell_type": "code",
   "execution_count": 28,
   "metadata": {
    "collapsed": false
   },
   "outputs": [
    {
     "data": {
      "text/plain": [
       "['10',\n",
       " '120',\n",
       " '15mg',\n",
       " '195',\n",
       " '199',\n",
       " '200',\n",
       " '203',\n",
       " '30',\n",
       " '30mg',\n",
       " '325',\n",
       " '385',\n",
       " '50',\n",
       " '562',\n",
       " '570',\n",
       " '588',\n",
       " '60',\n",
       " '70',\n",
       " '750',\n",
       " '80',\n",
       " '90',\n",
       " 'brand',\n",
       " 'cards',\n",
       " 'check',\n",
       " 'codeine',\n",
       " 'credit',\n",
       " 'days',\n",
       " 'delivery',\n",
       " 'es',\n",
       " 'express',\n",
       " 'fedex',\n",
       " 'for',\n",
       " 'free',\n",
       " 'have',\n",
       " 'hydrocodone',\n",
       " 'is',\n",
       " 'major',\n",
       " 'methylmorphine',\n",
       " 'mg',\n",
       " 'narcotic',\n",
       " 'noprescription',\n",
       " 'only',\n",
       " 'opioid',\n",
       " 'order',\n",
       " 'over',\n",
       " 'pain',\n",
       " 'pills',\n",
       " 'reliever',\n",
       " 'required',\n",
       " 'vicodin',\n",
       " 'visa',\n",
       " 'watson',\n",
       " 'we']"
      ]
     },
     "execution_count": 28,
     "metadata": {},
     "output_type": "execute_result"
    }
   ],
   "source": [
    "count_vec.get_feature_names()"
   ]
  },
  {
   "cell_type": "code",
   "execution_count": 45,
   "metadata": {
    "collapsed": false
   },
   "outputs": [
    {
     "data": {
      "text/plain": [
       "'hydrocodone vicodin brand watson vicodin brand watson brand watson noprescription required free express fedex days delivery for over order major credit cards check'"
      ]
     },
     "execution_count": 45,
     "metadata": {},
     "output_type": "execute_result"
    }
   ],
   "source": [
    "# 以 非单词字符 [~\\w] split 输入的文本（选取其中长度大于 2 的 piece），清除 其中由数字组成的字符串，以空格作为连接符，连接 word\n",
    "' '.join([word for word in [piece.lower() for piece in re.split(r'\\W+', read_file_2) if len(piece)>2] if re.findall(r'^[A-Za-z]', word)])"
   ]
  },
  {
   "cell_type": "code",
   "execution_count": 46,
   "metadata": {
    "collapsed": false
   },
   "outputs": [
    {
     "data": {
      "text/plain": [
       "<function __main__.<lambda>>"
      ]
     },
     "execution_count": 46,
     "metadata": {},
     "output_type": "execute_result"
    }
   ],
   "source": [
    "lambda x: ' '.join([word for word in [piece.lower() for piece in re.split(r'\\W+', x) if len(piece)>2] if re.findall(r'[A-Za-z]+', word)])"
   ]
  },
  {
   "cell_type": "code",
   "execution_count": 67,
   "metadata": {
    "collapsed": false
   },
   "outputs": [
    {
     "data": {
      "text/plain": [
       "['codeine for visa only codeine methylmorphine narcotic opioid pain reliever have pills for for for visa only',\n",
       " 'hydrocodone vicodin brand watson vicodin brand watson brand watson noprescription required free express fedex days delivery for over order major credit cards check']"
      ]
     },
     "execution_count": 67,
     "metadata": {},
     "output_type": "execute_result"
    }
   ],
   "source": [
    "list(map(lambda x: ' '.join([word for word in [piece.lower() for piece in re.split(r'\\W+', x) if len(piece)>2] if re.findall(r'^[A-Za-z]', word)]), \\\n",
    "         [read_file_1, read_file_2]))"
   ]
  },
  {
   "cell_type": "code",
   "execution_count": null,
   "metadata": {
    "collapsed": false
   },
   "outputs": [],
   "source": []
  },
  {
   "cell_type": "code",
   "execution_count": null,
   "metadata": {
    "collapsed": true
   },
   "outputs": [],
   "source": []
  }
 ],
 "metadata": {
  "kernelspec": {
   "display_name": "Python 3",
   "language": "python",
   "name": "python3"
  },
  "language_info": {
   "codemirror_mode": {
    "name": "ipython",
    "version": 3
   },
   "file_extension": ".py",
   "mimetype": "text/x-python",
   "name": "python",
   "nbconvert_exporter": "python",
   "pygments_lexer": "ipython3",
   "version": "3.6.0"
  }
 },
 "nbformat": 4,
 "nbformat_minor": 2
}
